{
 "cells": [
  {
   "cell_type": "code",
   "execution_count": 1,
   "id": "236abb65-cbfe-444e-81e8-e56eb80249af",
   "metadata": {},
   "outputs": [
    {
     "name": "stdin",
     "output_type": "stream",
     "text": [
      "Enter your state of origin Anambra\n"
     ]
    },
    {
     "name": "stdout",
     "output_type": "stream",
     "text": [
      "Your state of origin is  Anambra\n",
      "Your first character is  A\n",
      "Your characters starting from 3rd to 5th are  amb\n",
      "Your string starting from 3rd character is  ambra\n",
      "State of origin two times  AnambraAnambra\n"
     ]
    }
   ],
   "source": [
    "str = input(\"Enter your state of origin\")\n",
    "\n",
    "print(\"Your state of origin is \", str)\n",
    "print(\"Your first character is \", str[0])\n",
    "print(\"Your characters starting from 3rd to 5th are \", str[2:5])\n",
    "print(\"Your string starting from 3rd character is \", str[2:])\n",
    "print(\"State of origin two times \", str * 2)"
   ]
  },
  {
   "cell_type": "code",
   "execution_count": 3,
   "id": "300bba55-4994-435f-91aa-bbd69a3f99a6",
   "metadata": {},
   "outputs": [
    {
     "name": "stdin",
     "output_type": "stream",
     "text": [
      "Enter mass in kilograms:  100\n"
     ]
    },
    {
     "name": "stdout",
     "output_type": "stream",
     "text": [
      "the energy equivalent to 100.0 kg of mass is 8.987551787368176e+18 joules.\n"
     ]
    }
   ],
   "source": [
    "m =  float(input(\"Enter mass in kilograms: \"))\n",
    "\n",
    "c = 299792458\n",
    "\n",
    "energy = m * c ** 2\n",
    "\n",
    "print(f\"the energy equivalent to {m} kg of mass is {energy} joules.\")"
   ]
  },
  {
   "cell_type": "code",
   "execution_count": 3,
   "id": "79a7e83e-caa7-4362-b730-17e7a1d306e1",
   "metadata": {},
   "outputs": [
    {
     "name": "stdout",
     "output_type": "stream",
     "text": [
      "['anaconda', 786, 2.23, 'jupyter', 70]\n",
      "anaconda\n",
      "[786, 2.23]\n",
      "[2.23, 'jupyter', 70]\n",
      "[321, 'Python', 321, 'Python']\n",
      "['anaconda', 786, 2.23, 'jupyter', 70, 321, 'Python']\n"
     ]
    }
   ],
   "source": [
    "list = ['anaconda', 786,2.23,'jupyter',70]\n",
    "shortlist = [321, 'Python']\n",
    "\n",
    "print(list)\n",
    "print(list[0])\n",
    "print(list[1:3])\n",
    "print(list[2:])\n",
    "print(shortlist*2)\n",
    "print(list + shortlist)"
   ]
  },
  {
   "cell_type": "code",
   "execution_count": 5,
   "id": "7e66a813-67fa-4763-993c-c46888bb7418",
   "metadata": {},
   "outputs": [
    {
     "name": "stdout",
     "output_type": "stream",
     "text": [
      "('Ekiti', 750, 'Oshogbo', 250, 'Akure', 500)\n",
      "500\n",
      "('Oshogbo', 250)\n",
      "(250, 'Akure', 500)\n",
      "('Abeokuta', 300, 'Ogbomosho', 'Abeokuta', 300, 'Ogbomosho', 'Abeokuta', 300, 'Ogbomosho')\n",
      "('Ekiti', 750, 'Oshogbo', 250, 'Akure', 500, 'Abeokuta', 300, 'Ogbomosho')\n"
     ]
    }
   ],
   "source": [
    "tuple = (\"Ekiti\", 750, 'Oshogbo', 250, 'Akure', 500)\n",
    "s_tuple = (\"Abeokuta\",300,\"Ogbomosho\")\n",
    "\n",
    "print(tuple)\n",
    "print(tuple[-1])\n",
    "print(tuple[2:4])\n",
    "print(tuple[3:])\n",
    "print(s_tuple * 3)\n",
    "\n",
    "print(tuple +s_tuple)"
   ]
  },
  {
   "cell_type": "code",
   "execution_count": 7,
   "id": "020aed2d-017c-4ef3-8804-d74c092039e2",
   "metadata": {},
   "outputs": [
    {
     "name": "stdout",
     "output_type": "stream",
     "text": [
      "False\n",
      "False\n",
      "False\n",
      "False\n",
      "True\n"
     ]
    }
   ],
   "source": [
    "game_1 = 2\n",
    "game_2 = 4\n",
    "print(bool(game_1 == game_2))\n",
    "\n",
    "print(game_1 == game_2)\n",
    "\n",
    "val = None\n",
    "print(bool(val))\n",
    "\n",
    "num = ()\n",
    "print(bool(num))\n",
    "\n",
    "age = True\n",
    "print(bool(age))"
   ]
  },
  {
   "cell_type": "code",
   "execution_count": 9,
   "id": "1f620f1c-6901-4b43-93c4-4690eb40450c",
   "metadata": {},
   "outputs": [
    {
     "name": "stdout",
     "output_type": "stream",
     "text": [
      "Grade = 70\n",
      "GPA = 4\n",
      "CGPA  = 4\n"
     ]
    }
   ],
   "source": [
    "grade = int(70)\n",
    "gpa = int(4.9)\n",
    "cgpa = int(\"4\")\n",
    "\n",
    "print(f\"Grade = {grade}\")\n",
    "print(f\"GPA = {gpa}\")\n",
    "print(f\"CGPA  = {cgpa}\")"
   ]
  },
  {
   "cell_type": "code",
   "execution_count": 11,
   "id": "c5e38bd5-b2f1-4153-b762-d074dee9a47d",
   "metadata": {},
   "outputs": [
    {
     "name": "stdout",
     "output_type": "stream",
     "text": [
      "Grade = 70.0\n",
      "GPA = 4.9\n",
      "CGPA  = 4.0\n"
     ]
    }
   ],
   "source": [
    "grade = float(70)\n",
    "gpa = float(4.9)\n",
    "cgpa = float(\"4\")\n",
    "\n",
    "print(f\"Grade = {grade}\")\n",
    "print(f\"GPA = {gpa}\")\n",
    "print(f\"CGPA  = {cgpa}\")"
   ]
  },
  {
   "cell_type": "code",
   "execution_count": null,
   "id": "9c4299cd-2f78-4110-9994-8c7ea8963ea1",
   "metadata": {},
   "outputs": [],
   "source": [
    "import math\n",
    "\n",
    "\n",
    "def solve_quadratic():\n",
    "    A = float(input(\"Enter coefficient A: \"))\n",
    "    B = float(input(\"Enter coefficient B: \"))\n",
    "    C = float(input(\"Enter coefficient C: \"))\n",
    "\n",
    "    discriminant = B ** 2 - 4 * A * C\n",
    "    if discriminant > 0:\n",
    "        root1 = (-B + math.sqrt(discriminant)) / (2 * A)\n",
    "        root2 = (-B - math.sqrt(discriminant)) / (2 * A)\n",
    "        print(f\"The roots are: {root1} and {root2}\")\n",
    "    elif discriminant == 0:\n",
    "        root = -B / (2 * A)\n",
    "        print(f\"The root is: {root}\")\n",
    "    else:\n",
    "        real_part = -B / (2 * A)\n",
    "        imaginary_part = math.sqrt(abs(discriminant)) / (2 * A)\n",
    "        print(f\"The roots are: {real_part} ± {imaginary_part}i\")\n",
    "\n",
    "\n",
    "def solve_cubic():\n",
    "    A = float(input(\"Enter coefficient A: \"))\n",
    "    B = float(input(\"Enter coefficient B: \"))\n",
    "    C = float(input(\"Enter coefficient C: \"))\n",
    "    D = float(input(\"Enter coefficient D: \"))\n",
    "\n",
    "    # Convert to depressed cubic form: x^3 + px + q = 0\n",
    "    p = (3 * A * C - B ** 2) / (3 * A ** 2)\n",
    "    q = (2 * B ** 3 - 9 * A * B * C + 27 * A ** 2 * D) / (27 * A ** 3)\n",
    "\n",
    "    delta = (q ** 2 / 4) + (p ** 3 / 27)\n",
    "    if delta > 0:\n",
    "        u = (-q / 2 + math.sqrt(delta)) ** (1 / 3)\n",
    "        v = (-q / 2 - math.sqrt(delta)) ** (1 / 3)\n",
    "        root = u + v - B / (3 * A)\n",
    "        print(f\"One real root: {root}\")\n",
    "    elif delta == 0:\n",
    "        u = (-q / 2) ** (1 / 3)\n",
    "        root1 = 2 * u - B / (3 * A)\n",
    "        root2 = -u - B / (3 * A)\n",
    "        print(f\"Double root: {root1}, Single root: {root2}\")\n",
    "    else:\n",
    "        r = math.sqrt(-p ** 3 / 27)\n",
    "        theta = math.acos(-q / (2 * r))\n",
    "        root1 = 2 * (-p / 3) ** 0.5 * math.cos(theta / 3) - B / (3 * A)\n",
    "        root2 = 2 * (-p / 3) ** 0.5 * math.cos((theta + 2 * math.pi) / 3) - B / (3 * A)\n",
    "        root3 = 2 * (-p / 3) ** 0.5 * math.cos((theta + 4 * math.pi) / 3) - B / (3 * A)\n",
    "        print(f\"Three real roots: {root1}, {root2}, {root3}\")\n",
    "\n",
    "def quadratic_roots(a, b, c):\n",
    "    \"\"\"Solves ax^2 + bx + c = 0 and returns real roots if they exist.\"\"\"\n",
    "    discriminant = b**2 - 4*a*c\n",
    "    if discriminant < 0:\n",
    "        return None  # No real roots\n",
    "    root1 = (-b + math.sqrt(discriminant)) / (2 * a)\n",
    "    root2 = (-b - math.sqrt(discriminant)) / (2 * a)\n",
    "    return root1, root2\n",
    "\n",
    "def solve_quartic():\n",
    "    print(\"\\nSolving Quartic Equation: ax⁴ + bx³ + cx² + dx + e = 0\")\n",
    "    a = float(input(\"Enter coefficient a: \"))\n",
    "    b = float(input(\"Enter coefficient b: \"))\n",
    "    c = float(input(\"Enter coefficient c: \"))\n",
    "    d = float(input(\"Enter coefficient d: \"))\n",
    "    e = float(input(\"Enter coefficient e: \"))\n",
    "\n",
    "    if a == 0:\n",
    "        print(\"This is not a quartic equation.\")\n",
    "        return\n",
    "\n",
    "    # Try factorizing into two quadratics\n",
    "    for p in range(-100, 101):\n",
    "        for q in range(-100, 101):\n",
    "            for r in range(-100, 101):\n",
    "                for s in range(-100, 101):\n",
    "                    # Check if (x² + px + q)(x² + rx + s) expands to the original equation\n",
    "                    if (p + r) == b/a and (q + p*r + s) == c/a and (p*s + q*r) == d/a and (q * s) == e/a:\n",
    "                        print(f\"Factorized form: (x² + {p}x + {q})(x² + {r}x + {s})\")\n",
    "                        roots1 = quadratic_roots(1, p, q)\n",
    "                        roots2 = quadratic_roots(1, r, s)\n",
    "                        roots = []\n",
    "                        if roots1:\n",
    "                            roots.extend(roots1)\n",
    "                        if roots2:\n",
    "                            roots.extend(roots2)\n",
    "                        print(f\"Real roots: {roots}\")\n",
    "                        return\n",
    "\n",
    "    print(\"Factorization failed. Using numerical solution.\")\n",
    "\n",
    "    # Numerical approach (Ferrari’s method, fixed)\n",
    "    alpha = -3 * (b ** 2) / (8 * a ** 2) + c / a\n",
    "    beta = (b ** 3) / (8 * a ** 3) - (b * c) / (2 * a ** 2) + d / a\n",
    "    gamma = -3 * (b ** 4) / (256 * a ** 4) + (c * b ** 2) / (16 * a ** 3) - (b * d) / (4 * a ** 2) + e / a\n",
    "\n",
    "    # Solve cubic resolvent\n",
    "    P = -alpha**2 / 12 - gamma\n",
    "    Q = -alpha**3 / 108 + (alpha * gamma) / 3 - beta**2 / 8\n",
    "    R = -Q / 2 + math.sqrt(Q**2 / 4 + P**3 / 27)\n",
    "\n",
    "    if R < 0:\n",
    "        print(\"No real roots exist.\")\n",
    "        return\n",
    "\n",
    "    U = R ** (1 / 3)\n",
    "    y = -5 * alpha / 6 + U - P / (3 * U)\n",
    "    W = math.sqrt(alpha + 2 * y)\n",
    "\n",
    "    roots = []\n",
    "    for sign1 in [-1, 1]:\n",
    "        for sign2 in [-1, 1]:\n",
    "            term = -b / (4 * a) + sign1 * W / 2 + sign2 * math.sqrt(-(3 * alpha + 2 * y + sign1 * (2 * beta / W))) / 2\n",
    "            if not math.isnan(term):\n",
    "                roots.append(term)\n",
    "\n",
    "    print(f\"Real roots: {roots}\")\n",
    "\n",
    "def main():\n",
    "    while True:\n",
    "        print(\"Choose an operation:\")\n",
    "        print(\"1. Solve Quadratic Equation\")\n",
    "        print(\"2. Solve Cubic Equation\")\n",
    "        print(\"3. Solve Quartic Equation\")\n",
    "        print(\"4. Exit\")\n",
    "\n",
    "        choice = input(\"Enter your choice (1-4): \")\n",
    "\n",
    "        if choice == '1':\n",
    "            solve_quadratic()\n",
    "        elif choice == '2':\n",
    "            solve_cubic()\n",
    "        elif choice == '3':\n",
    "            solve_quartic()\n",
    "        elif choice == '4':\n",
    "            print(\"Exiting the program.\")\n",
    "            break\n",
    "        else:\n",
    "            print(\"Invalid choice. Please enter a valid option.\")\n",
    "\n",
    "\n",
    "if True:\n",
    "    main()"
   ]
  },
  {
   "cell_type": "code",
   "execution_count": null,
   "id": "3451bd1f-33ee-4330-9ed6-aa1cab908f2b",
   "metadata": {},
   "outputs": [],
   "source": []
  }
 ],
 "metadata": {
  "kernelspec": {
   "display_name": "Python [conda env:base] *",
   "language": "python",
   "name": "conda-base-py"
  },
  "language_info": {
   "codemirror_mode": {
    "name": "ipython",
    "version": 3
   },
   "file_extension": ".py",
   "mimetype": "text/x-python",
   "name": "python",
   "nbconvert_exporter": "python",
   "pygments_lexer": "ipython3",
   "version": "3.12.7"
  }
 },
 "nbformat": 4,
 "nbformat_minor": 5
}
