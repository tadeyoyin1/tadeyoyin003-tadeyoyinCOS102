{
 "cells": [
  {
   "cell_type": "code",
   "execution_count": null,
   "id": "bb0c4eae-d831-4bc7-bb06-640977563c6f",
   "metadata": {},
   "outputs": [
    {
     "name": "stdout",
     "output_type": "stream",
     "text": [
      "Choose a calculation:\n",
      "1. Simple Interest\n",
      "2. Compound Interest\n",
      "3. Annuity Plan\n"
     ]
    }
   ],
   "source": [
    "def simple_interest(p, r, t):\n",
    "    amount = p * (1 + (r / 100) * t)\n",
    "    print(f\"The simple interest for {p} at the rate of {r}% over {t} years is {amount:.2f}\")\n",
    "\n",
    "def compound_interest(p, r, t, n):\n",
    "    amount = p * ((1 + (r / 100) / n) ** (n * t))\n",
    "    print(f\"The compound interest for {p} at the rate of {r}% over {t} years is {amount:.2f}\")\n",
    "\n",
    "def annuity_plan(p, r, t, n):\n",
    "    rate_decimal = r / 100\n",
    "    amount = p * (((1 + (rate_decimal / n)) ** (n * t) - 1) / (rate_decimal / n))\n",
    "    print(f\"The annuity plan for {p} at the rate of {r}% over {t} years is {amount:.2f}\")\n",
    "\n",
    "def get_float(prompt):\n",
    "    while True:\n",
    "        try:\n",
    "            return float(input(prompt))\n",
    "        except ValueError:\n",
    "            print(\"Please enter a valid number.\")\n",
    "\n",
    "def main():\n",
    "    print(\"Choose a calculation:\")\n",
    "    print(\"1. Simple Interest\")\n",
    "    print(\"2. Compound Interest\")\n",
    "    print(\"3. Annuity Plan\")\n",
    "\n",
    "    try:\n",
    "        command = int(input(\"Enter 1, 2, or 3: \"))\n",
    "    except ValueError:\n",
    "        print(\"Invalid input. Please enter a number.\")\n",
    "        return\n",
    "\n",
    "    p = get_float(\"What is your principal? \")\n",
    "    r = get_float(\"Enter the interest rate (in %): \")\n",
    "    t = get_float(\"Enter the time period (in years): \")\n",
    "\n",
    "    if command == 1:\n",
    "        simple_interest(p, r, t)\n",
    "    elif command == 2:\n",
    "        n = get_float(\"Enter the number of times interest is compounded per year: \")\n",
    "        compound_interest(p, r, t, n)\n",
    "    elif command == 3:\n",
    "        n = get_float(\"Enter the payment periods per year (ppy): \")\n",
    "        annuity_plan(p, r, t, n)\n",
    "    else:\n",
    "        print(\"Invalid choice. Please select 1, 2, or 3.\")\n",
    "\n",
    "main()\n"
   ]
  },
  {
   "cell_type": "code",
   "execution_count": 9,
   "id": "04c25965-5631-4933-bd55-314c82137143",
   "metadata": {},
   "outputs": [
    {
     "name": "stdout",
     "output_type": "stream",
     "text": [
      "Choose a calculation:\n",
      "1. Simple Interest\n",
      "2. Compound Interest\n",
      "3. Annuity Plan\n"
     ]
    },
    {
     "name": "stdin",
     "output_type": "stream",
     "text": [
      "Enter 1, 2, or 3:  3\n",
      "What is your principal?  ff\n"
     ]
    },
    {
     "name": "stdout",
     "output_type": "stream",
     "text": [
      "Please enter a valid number.\n"
     ]
    },
    {
     "name": "stdin",
     "output_type": "stream",
     "text": [
      "What is your principal?  w33\n"
     ]
    },
    {
     "name": "stdout",
     "output_type": "stream",
     "text": [
      "Please enter a valid number.\n"
     ]
    },
    {
     "name": "stdin",
     "output_type": "stream",
     "text": [
      "What is your principal?  443\n",
      "Enter the interest rate (in %):  23\n",
      "Enter the time period (in years):  20\n",
      "Enter the payment periods per year (ppy):  2\n"
     ]
    },
    {
     "name": "stdout",
     "output_type": "stream",
     "text": [
      "The annuity plan for 443.0 at the rate of 23.0% over 20.0 years is 295857.38\n"
     ]
    }
   ],
   "source": []
  },
  {
   "cell_type": "code",
   "execution_count": null,
   "id": "e8675dc2-7dc0-4644-838b-ed1bf61aa61e",
   "metadata": {},
   "outputs": [],
   "source": []
  }
 ],
 "metadata": {
  "kernelspec": {
   "display_name": "Python [conda env:base] *",
   "language": "python",
   "name": "conda-base-py"
  },
  "language_info": {
   "codemirror_mode": {
    "name": "ipython",
    "version": 3
   },
   "file_extension": ".py",
   "mimetype": "text/x-python",
   "name": "python",
   "nbconvert_exporter": "python",
   "pygments_lexer": "ipython3",
   "version": "3.12.7"
  }
 },
 "nbformat": 4,
 "nbformat_minor": 5
}
