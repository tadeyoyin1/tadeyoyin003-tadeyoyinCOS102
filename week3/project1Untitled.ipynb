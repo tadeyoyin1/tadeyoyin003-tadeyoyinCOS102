{
 "cells": [
  {
   "cell_type": "code",
   "execution_count": 3,
   "id": "934a100f-3b43-43bb-a08e-039bfb67c0b7",
   "metadata": {},
   "outputs": [
    {
     "name": "stdin",
     "output_type": "stream",
     "text": [
      "Enter the name of city 1:  lagos\n",
      "Enter the name of city 2:  abuja\n"
     ]
    },
    {
     "name": "stdout",
     "output_type": "stream",
     "text": [
      "The name of City 1 after swapping is abuja\n",
      "The name of City 2 after swapping is lagos\n"
     ]
    }
   ],
   "source": [
    "city_1 = input(\"Enter the name of city 1: \")\n",
    "city_2 = input(\"Enter the name of city 2: \")\n",
    "\n",
    "temp = city_1\n",
    "city_1 = city_2\n",
    "city_2 = temp\n",
    "\n",
    "print(f\"The name of City 1 after swapping is {city_1}\")\n",
    "print(f\"The name of City 2 after swapping is {city_2}\")"
   ]
  },
  {
   "cell_type": "code",
   "execution_count": 5,
   "id": "c791781f-4fe8-48a2-8a03-8400386448f6",
   "metadata": {},
   "outputs": [
    {
     "name": "stdin",
     "output_type": "stream",
     "text": [
      "Enter a number:  23\n"
     ]
    },
    {
     "name": "stdout",
     "output_type": "stream",
     "text": [
      "Positive Number\n"
     ]
    }
   ],
   "source": [
    "num = float(input(\"Enter a number: \"))\n",
    "if num > 0:\n",
    "    print(\"Positive Number\")\n",
    "elif num == 0:\n",
    "    print(\"Zero\")\n",
    "else:\n",
    "    print(\"Negative number\")"
   ]
  },
  {
   "cell_type": "code",
   "execution_count": 7,
   "id": "5b88ffc6-bce2-401a-b70b-08c3f9c74881",
   "metadata": {},
   "outputs": [
    {
     "name": "stdout",
     "output_type": "stream",
     "text": [
      "Welcome to the COUPE DE ESCIVA 2023: FOOTBALL PICKS \n",
      "\n",
      "Madiba:  Chubby Obiora-Okafo\n",
      "Blue-Jays:  Christopher Uweh\n",
      "Cirok:  Alexander\n",
      "Tsg Walkers Ikechukwu\n",
      "\n",
      "\n",
      "Madiba:  Chubby Obiora-Okafo\n",
      "Blue-Jays:  Oladimeji Abaniwondea/Jeffery Awagu\n",
      "Cirok:  Timileyin Pearse/Izuako Jeremy\n",
      "Tsg Walkers Ayomide Ojituku\n"
     ]
    }
   ],
   "source": [
    "print(\"Welcome to the COUPE DE ESCIVA 2023: FOOTBALL PICKS \\n\")\n",
    "captain = {\"Madiba: \":\"Chubby Obiora-Okafo\",\n",
    "           \"Blue-Jays: \":\"Christopher Uweh\",\n",
    "          \"Cirok: \":\"Alexander\",\n",
    "          \"Tsg Walkers\": \"Ikechukwu\"}\n",
    "\n",
    "goalkeepers = {\"Madiba: \":\"Chubby Obiora-Okafo\",\n",
    "           \"Blue-Jays: \":\"Oladimeji Abaniwondea/Jeffery Awagu\",\n",
    "          \"Cirok: \":\"Timileyin Pearse/Izuako Jeremy\",\n",
    "          \"Tsg Walkers\": \"Ayomide Ojituku\"}\n",
    "\n",
    "for pick in captain:\n",
    "    print(pick, captain[pick])\n",
    "print(\"\\n\")\n",
    "\n",
    "for pick in goalkeepers:\n",
    "    print(pick, goalkeepers[pick])\n"
   ]
  },
  {
   "cell_type": "code",
   "execution_count": 65,
   "id": "db380929-6f5e-4fa4-b435-03a3a5859fb3",
   "metadata": {},
   "outputs": [
    {
     "name": "stdout",
     "output_type": "stream",
     "text": [
      "Names\t\tage\t\theight\t\t score\n",
      "------------------------------------------------------------\n",
      "Chinedu\t\t19\t\t5.7\t\t74\n",
      "Liam\t\t16\t\t5.9\t\t87\n",
      "Wale\t\t18\t\t5.8\t\t75\n",
      "Gbenga\t\t17\t\t6.1\t\t68\n",
      "Abiola\t\t20\t\t5.9\t\t66\n",
      "Kola\t\t19\t\t5.5\t\t78\n",
      "Kunle\t\t16\t\t6.1\t\t87\n",
      "George\t\t18\t\t5.4\t\t98\n",
      "Thomas\t\t17\t\t5.8\t\t54\n",
      "Wesley\t\t19\t\t5.7\t\t60\n",
      "Jessica\t\t17\t\t5.5\t\t80\n",
      "Somto\t\t16\t\t6.0\t\t85\n",
      "Edith\t\t17\t\t5.4\t\t70\n",
      "Liza\t\t18\t\t5.9\t\t60\n",
      "Madonna\t\t16\t\t5.6\t\t76\n",
      "Waje\t\t18\t\t5.5\t\t66\n",
      "Tola\t\t17\t\t5.6\t\t87\n",
      "Aisha\t\t20\t\t1.6\t\t95\n",
      "Latifaa\t\t19\t\t0.5\t\t50\n"
     ]
    }
   ],
   "source": [
    "namesGirl = [\"Jessica\", \"Somto\", \"Edith\", \"Liza\", \"Madonna\", \"Waje\", \"Tola\", \"Aisha\", \"Latifaa\"]\n",
    "agegirl = [ 17, 16, 17, 18, 16, 18, 17, 20, 19, 17]\n",
    "heightGirl = [5.5, 6.0, 5.4, 5.9, 5.6, 5.5, 5.6, 1.6, 0.5, 5.5]\n",
    "scores = [80, 85, 70, 60, 76, 66, 87, 95, 50, 49]\n",
    "\n",
    "namesBoy = ['Chinedu', 'Liam', 'Wale', 'Gbenga', 'Abiola', 'Kola', 'Kunle', 'George', 'Thomas', 'Wesley']\n",
    "ageboy = [19, 16, 18, 17, 20, 19, 16, 18, 17, 19]\n",
    "heightBoy = [ 5.7, 5.9, 5.8, 6.1, 5.9, 5.5, 6.1, 5.4, 5.8, 5.7]\n",
    "scoreBoy = [74, 87, 75, 68, 66, 78, 87, 98, 54, 60]\n",
    "print(\"Names\\t\\tage\\t\\theight\\t\\t score\")\n",
    "print(\"-\"*60)\n",
    "for i in range(len(namesBoy)):\n",
    "    print(namesBoy[i] +\"\\t\\t\" + str(ageboy[i]) +\"\\t\\t\" + str(heightBoy[i]) + \"\\t\\t\" + str(scoreBoy[i]))\n",
    "for i in range(len(namesGirl)):\n",
    "     print(namesGirl[i] +\"\\t\\t\" + str(agegirl[i]) +\"\\t\\t\" + str(heightGirl[i]) + \"\\t\\t\" + str(scores[i])) \n",
    "    \n",
    "    "
   ]
  },
  {
   "cell_type": "code",
   "execution_count": null,
   "id": "fe4767e1-f598-4d2a-9296-61b353d92c34",
   "metadata": {},
   "outputs": [],
   "source": []
  },
  {
   "cell_type": "code",
   "execution_count": null,
   "id": "5a93219a-abfb-4a32-84c0-ab3c58bbc9ab",
   "metadata": {},
   "outputs": [],
   "source": []
  }
 ],
 "metadata": {
  "kernelspec": {
   "display_name": "Python [conda env:base] *",
   "language": "python",
   "name": "conda-base-py"
  },
  "language_info": {
   "codemirror_mode": {
    "name": "ipython",
    "version": 3
   },
   "file_extension": ".py",
   "mimetype": "text/x-python",
   "name": "python",
   "nbconvert_exporter": "python",
   "pygments_lexer": "ipython3",
   "version": "3.12.7"
  }
 },
 "nbformat": 4,
 "nbformat_minor": 5
}
