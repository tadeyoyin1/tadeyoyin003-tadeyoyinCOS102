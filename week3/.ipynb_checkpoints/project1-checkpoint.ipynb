{
 "cells": [
  {
   "cell_type": "code",
   "execution_count": null,
   "id": "934a100f-3b43-43bb-a08e-039bfb67c0b7",
   "metadata": {},
   "outputs": [],
   "source": []
  },
  {
   "cell_type": "code",
   "execution_count": 65,
   "id": "db380929-6f5e-4fa4-b435-03a3a5859fb3",
   "metadata": {},
   "outputs": [
    {
     "name": "stdout",
     "output_type": "stream",
     "text": [
      "Names\t\tage\t\theight\t\t score\n",
      "------------------------------------------------------------\n",
      "Chinedu\t\t19\t\t5.7\t\t74\n",
      "Liam\t\t16\t\t5.9\t\t87\n",
      "Wale\t\t18\t\t5.8\t\t75\n",
      "Gbenga\t\t17\t\t6.1\t\t68\n",
      "Abiola\t\t20\t\t5.9\t\t66\n",
      "Kola\t\t19\t\t5.5\t\t78\n",
      "Kunle\t\t16\t\t6.1\t\t87\n",
      "George\t\t18\t\t5.4\t\t98\n",
      "Thomas\t\t17\t\t5.8\t\t54\n",
      "Wesley\t\t19\t\t5.7\t\t60\n",
      "Jessica\t\t17\t\t5.5\t\t80\n",
      "Somto\t\t16\t\t6.0\t\t85\n",
      "Edith\t\t17\t\t5.4\t\t70\n",
      "Liza\t\t18\t\t5.9\t\t60\n",
      "Madonna\t\t16\t\t5.6\t\t76\n",
      "Waje\t\t18\t\t5.5\t\t66\n",
      "Tola\t\t17\t\t5.6\t\t87\n",
      "Aisha\t\t20\t\t1.6\t\t95\n",
      "Latifaa\t\t19\t\t0.5\t\t50\n"
     ]
    }
   ],
   "source": [
    "namesGirl = [\"Jessica\", \"Somto\", \"Edith\", \"Liza\", \"Madonna\", \"Waje\", \"Tola\", \"Aisha\", \"Latifaa\"]\n",
    "agegirl = [ 17, 16, 17, 18, 16, 18, 17, 20, 19, 17]\n",
    "heightGirl = [5.5, 6.0, 5.4, 5.9, 5.6, 5.5, 5.6, 1.6, 0.5, 5.5]\n",
    "scores = [80, 85, 70, 60, 76, 66, 87, 95, 50, 49]\n",
    "\n",
    "namesBoy = ['Chinedu', 'Liam', 'Wale', 'Gbenga', 'Abiola', 'Kola', 'Kunle', 'George', 'Thomas', 'Wesley']\n",
    "ageboy = [19, 16, 18, 17, 20, 19, 16, 18, 17, 19]\n",
    "heightBoy = [ 5.7, 5.9, 5.8, 6.1, 5.9, 5.5, 6.1, 5.4, 5.8, 5.7]\n",
    "scoreBoy = [74, 87, 75, 68, 66, 78, 87, 98, 54, 60]\n",
    "print(\"Names\\t\\tage\\t\\theight\\t\\t score\")\n",
    "print(\"-\"*60)\n",
    "for i in range(len(namesBoy)):\n",
    "    print(namesBoy[i] +\"\\t\\t\" + str(ageboy[i]) +\"\\t\\t\" + str(heightBoy[i]) + \"\\t\\t\" + str(scoreBoy[i]))\n",
    "for i in range(len(namesGirl)):\n",
    "     print(namesGirl[i] +\"\\t\\t\" + str(agegirl[i]) +\"\\t\\t\" + str(heightGirl[i]) + \"\\t\\t\" + str(scores[i])) \n",
    "    \n",
    "    "
   ]
  },
  {
   "cell_type": "code",
   "execution_count": null,
   "id": "fe4767e1-f598-4d2a-9296-61b353d92c34",
   "metadata": {},
   "outputs": [],
   "source": []
  },
  {
   "cell_type": "code",
   "execution_count": null,
   "id": "5a93219a-abfb-4a32-84c0-ab3c58bbc9ab",
   "metadata": {},
   "outputs": [],
   "source": []
  }
 ],
 "metadata": {
  "kernelspec": {
   "display_name": "Python [conda env:base] *",
   "language": "python",
   "name": "conda-base-py"
  },
  "language_info": {
   "codemirror_mode": {
    "name": "ipython",
    "version": 3
   },
   "file_extension": ".py",
   "mimetype": "text/x-python",
   "name": "python",
   "nbconvert_exporter": "python",
   "pygments_lexer": "ipython3",
   "version": "3.12.7"
  }
 },
 "nbformat": 4,
 "nbformat_minor": 5
}
